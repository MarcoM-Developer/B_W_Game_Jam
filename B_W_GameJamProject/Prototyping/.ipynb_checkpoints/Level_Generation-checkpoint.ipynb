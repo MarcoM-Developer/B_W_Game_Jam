{
 "cells": [
  {
   "cell_type": "markdown",
   "id": "9fcb2007",
   "metadata": {},
   "source": [
    "### Level generation script prototype\n",
    "\n",
    "I want to reproduce Spelunky level generation here. \n",
    "\n",
    "* work with a NxN grid.\n",
    "* Player start and finish at the same block (perhaps use mirror entrances/exits?)\n",
    "* generate the start tile at random, first layer.\n",
    "* generate the finish tile at random, last layer.\n",
    "* generate a path of fixed length between the start and finish, if there exists one.\n",
    "* populate the rest of the level with other cell types\n",
    "\n",
    "My first solution is to choose a start, finish and a middle node and then use a BFS to connect them. Then I generate a sequence of directions to take,"
   ]
  },
  {
   "cell_type": "code",
   "execution_count": 647,
   "id": "e798ca49",
   "metadata": {},
   "outputs": [],
   "source": [
    "LEVEL_SIZE = 5\n",
    "\n",
    "FINISH = 2\n",
    "START = 1\n",
    "MID_NODE = 3"
   ]
  },
  {
   "cell_type": "code",
   "execution_count": 648,
   "id": "34f43b2b",
   "metadata": {},
   "outputs": [],
   "source": [
    "import numpy as np\n",
    "\n",
    "level = [[0] * LEVEL_SIZE for _ in range(LEVEL_SIZE)] #np.zeros((LEVEL_SIZE, LEVEL_SIZE))\n",
    "\n",
    "s = np.random.randint(2)\n",
    "f = np.random.randint(2)\n",
    "\n",
    "start = s*(LEVEL_SIZE-1)\n",
    "finish = f*(LEVEL_SIZE-1) # Idea: make sure that start-finish > LEVEL_SIZE/2?\n",
    "mid = (2-(s+f))*(LEVEL_SIZE//2)\n",
    "\n",
    "level[0][start] = START\n",
    "level[-1][finish] = FINISH #\n",
    "level[LEVEL_SIZE//2][mid] = MID_NODE"
   ]
  },
  {
   "cell_type": "code",
   "execution_count": 649,
   "id": "a97b2421",
   "metadata": {},
   "outputs": [
    {
     "data": {
      "text/plain": [
       "[[0, 0, 0, 0, 1],\n",
       " [0, 0, 0, 0, 0],\n",
       " [0, 0, 3, 0, 0],\n",
       " [0, 0, 0, 0, 0],\n",
       " [2, 0, 0, 0, 0]]"
      ]
     },
     "execution_count": 649,
     "metadata": {},
     "output_type": "execute_result"
    }
   ],
   "source": [
    "level"
   ]
  },
  {
   "cell_type": "markdown",
   "id": "1e7ad7d0",
   "metadata": {},
   "source": [
    "### Breadth-First-Search\n",
    "\n",
    "Breadth-First-Search is a simple algorithm for shortest path. The issue is that it seems difficult to modify this to give a nice jagged path - but we can perhaps find the shortest path this way and then start \"perturbing\" it? "
   ]
  },
  {
   "cell_type": "code",
   "execution_count": 696,
   "id": "391171e2",
   "metadata": {},
   "outputs": [],
   "source": [
    "# BFS\n",
    "def get_neighbors(node):\n",
    "    \"\"\"\n",
    "    Return the list of all neighbors of a given node\n",
    "    \n",
    "    @param node: tuple of coords\n",
    "    @param level: \n",
    "    \"\"\"\n",
    "    x = node[0]\n",
    "    y = node[1]\n",
    "    \n",
    "    neighbors = []\n",
    "    \n",
    "    if x > 0:\n",
    "        neighbors.append((x-1 ,y))\n",
    "    \n",
    "    if y > 0:\n",
    "        neighbors.append((x,y-1))\n",
    "        \n",
    "    if y < LEVEL_SIZE - 1: \n",
    "        neighbors.append((x,y+1))\n",
    "        \n",
    "    if x < LEVEL_SIZE - 1:\n",
    "        neighbors.append((x+1,y))\n",
    "        \n",
    "    return neighbors\n",
    "    \n",
    "        \n",
    "    \n",
    "def get_path(start, finish):\n",
    "    \"\"\"\n",
    "    Returns the shortest path from start to finish in level.\n",
    "    \"\"\"\n",
    "    \n",
    "    #print(start, finish)\n",
    "    queue = [start]\n",
    "\n",
    "    L = LEVEL_SIZE*LEVEL_SIZE\n",
    "    \n",
    "    explored = [[L] * LEVEL_SIZE for _ in range(LEVEL_SIZE)]\n",
    "    explored[start[0]][start[1]] = 1 # label start as explored\n",
    "\n",
    "    # BFS\n",
    "    while queue: \n",
    "        q = queue.pop(0) # remove the first element\n",
    "    \n",
    "        if q == finish: \n",
    "            #print(\"found exit: \", q)  # if found finish, q\n",
    "            break;\n",
    "    \n",
    "        neighbors = get_neighbors(q)\n",
    "    \n",
    "        for n in neighbors:\n",
    "            if explored[n[0]][n[1]] == L:\n",
    "                explored[n[0]][n[1]] = explored[q[0]][q[1]] +1;\n",
    "                queue.append(n)\n",
    "    \n",
    "    #return explored\n",
    "                \n",
    "    # Reconstruct the path\n",
    "    path = [finish]\n",
    "    value = explored[finish[0]][finish[1]]\n",
    "    \n",
    "    while True:\n",
    "        neighbors = get_neighbors(path[0])\n",
    "        next_steps = []\n",
    "    \n",
    "        for n in neighbors:\n",
    "            if explored[n[0]][n[1]] < value:\n",
    "                next_steps.append(n)\n",
    "   \n",
    "        next_step = random.choice(next_steps)\n",
    "        path.insert(0, next_step)\n",
    "        value = explored[next_step[0]][next_step[1]]\n",
    "        \n",
    "        if next_step == start:\n",
    "            break;\n",
    "            \n",
    "    return path\n",
    "    \n",
    "        "
   ]
  },
  {
   "cell_type": "code",
   "execution_count": 697,
   "id": "3f11f785",
   "metadata": {},
   "outputs": [],
   "source": [
    "def generate_level_path():\n",
    "    \n",
    "    s = np.random.randint(2)\n",
    "    f = np.random.randint(2)\n",
    "\n",
    "    start = s*(LEVEL_SIZE-1)\n",
    "    finish = f*(LEVEL_SIZE-1) # Idea: make sure that start-finish > LEVEL_SIZE/2?\n",
    "    mid = (2-(s+f))*(LEVEL_SIZE//2)\n",
    "\n",
    "    path1 = get_path((0,start), (LEVEL_SIZE//2-1, mid))\n",
    "    path2 = get_path((LEVEL_SIZE//2+1, mid), (LEVEL_SIZE-1,finish))\n",
    "    path = path1 + [(LEVEL_SIZE//2, mid)] + path2\n",
    "    \n",
    "    return path"
   ]
  },
  {
   "cell_type": "code",
   "execution_count": 698,
   "id": "3862d5b9",
   "metadata": {},
   "outputs": [],
   "source": [
    "def path_to_dirs(path):\n",
    "    \n",
    "    length = len(path)\n",
    "    \n",
    "    d = tuple_diff(path[1], path[0])\n",
    "    dirs = [d+d]\n",
    "    \n",
    "    for i in range(length-2):\n",
    "        dirs.append(nodes_to_dir(path[i],path[i+1],path[i+2]))\n",
    "      \n",
    "    f = tuple_diff(path[-1], path[-2])\n",
    "    dirs.append(f+f)\n",
    "    \n",
    "    return dirs"
   ]
  },
  {
   "cell_type": "code",
   "execution_count": 699,
   "id": "7119ec12",
   "metadata": {},
   "outputs": [
    {
     "ename": "TypeError",
     "evalue": "generate_level_path() takes 0 positional arguments but 1 was given",
     "output_type": "error",
     "traceback": [
      "\u001b[0;31m---------------------------------------------------------------------------\u001b[0m",
      "\u001b[0;31mTypeError\u001b[0m                                 Traceback (most recent call last)",
      "\u001b[0;32m/var/folders/wy/10qmlr615w5_d3wlcqwvnsq40000gn/T/ipykernel_32723/3044252156.py\u001b[0m in \u001b[0;36m<module>\u001b[0;34m\u001b[0m\n\u001b[1;32m      1\u001b[0m \u001b[0mdraw\u001b[0m \u001b[0;34m=\u001b[0m \u001b[0;34m[\u001b[0m\u001b[0;34m[\u001b[0m\u001b[0;34m'.'\u001b[0m\u001b[0;34m]\u001b[0m \u001b[0;34m*\u001b[0m \u001b[0mLEVEL_SIZE\u001b[0m \u001b[0;32mfor\u001b[0m \u001b[0m_\u001b[0m \u001b[0;32min\u001b[0m \u001b[0mrange\u001b[0m\u001b[0;34m(\u001b[0m\u001b[0mLEVEL_SIZE\u001b[0m\u001b[0;34m)\u001b[0m\u001b[0;34m]\u001b[0m\u001b[0;34m\u001b[0m\u001b[0;34m\u001b[0m\u001b[0m\n\u001b[1;32m      2\u001b[0m \u001b[0;34m\u001b[0m\u001b[0m\n\u001b[0;32m----> 3\u001b[0;31m \u001b[0mpath\u001b[0m \u001b[0;34m=\u001b[0m \u001b[0mgenerate_level_path\u001b[0m\u001b[0;34m(\u001b[0m\u001b[0mlevel\u001b[0m\u001b[0;34m)\u001b[0m\u001b[0;34m\u001b[0m\u001b[0;34m\u001b[0m\u001b[0m\n\u001b[0m\u001b[1;32m      4\u001b[0m \u001b[0;32mfor\u001b[0m \u001b[0mp\u001b[0m \u001b[0;32min\u001b[0m \u001b[0mpath\u001b[0m\u001b[0;34m:\u001b[0m\u001b[0;34m\u001b[0m\u001b[0;34m\u001b[0m\u001b[0m\n\u001b[1;32m      5\u001b[0m     \u001b[0mdraw\u001b[0m\u001b[0;34m[\u001b[0m\u001b[0mp\u001b[0m\u001b[0;34m[\u001b[0m\u001b[0;36m0\u001b[0m\u001b[0;34m]\u001b[0m\u001b[0;34m]\u001b[0m\u001b[0;34m[\u001b[0m\u001b[0mp\u001b[0m\u001b[0;34m[\u001b[0m\u001b[0;36m1\u001b[0m\u001b[0;34m]\u001b[0m\u001b[0;34m]\u001b[0m \u001b[0;34m=\u001b[0m \u001b[0;34m'X'\u001b[0m\u001b[0;34m\u001b[0m\u001b[0;34m\u001b[0m\u001b[0m\n",
      "\u001b[0;31mTypeError\u001b[0m: generate_level_path() takes 0 positional arguments but 1 was given"
     ]
    }
   ],
   "source": [
    "draw = [['.'] * LEVEL_SIZE for _ in range(LEVEL_SIZE)]\n",
    "\n",
    "path = generate_level_path()\n",
    "for p in path:\n",
    "    draw[p[0]][p[1]] = 'X'\n",
    "    \n",
    "draw\n",
    "    \n",
    "#draw[0][start]='S'\n",
    "#draw[LEVEL_SIZE//2][mid]='M'\n",
    "#draw[LEVEL_SIZE-1][finish] = 'F'"
   ]
  },
  {
   "cell_type": "code",
   "execution_count": 695,
   "id": "810f8ffd",
   "metadata": {},
   "outputs": [
    {
     "data": {
      "text/plain": [
       "['RR', 'RD', 'DR', 'RD', 'DD', 'DD', 'DR', 'RR', 'RR']"
      ]
     },
     "execution_count": 695,
     "metadata": {},
     "output_type": "execute_result"
    }
   ],
   "source": [
    "path_to_dirs(path)"
   ]
  },
  {
   "cell_type": "code",
   "execution_count": 685,
   "id": "143310bf",
   "metadata": {},
   "outputs": [],
   "source": [
    "L = 'L'\n",
    "R = 'R'\n",
    "U = 'U'\n",
    "D = 'D'\n",
    "\n",
    "\n",
    "def tuple_diff(t1, t2):\n",
    "    if t2[0]-t1[0] > 0:\n",
    "        return U\n",
    "    if t2[0]-t1[0] < 0:\n",
    "        return D\n",
    "    if t2[1]-t1[1] > 0:\n",
    "        return L\n",
    "    if t2[1]-t1[1] < 0:\n",
    "        return R\n",
    "\n",
    "def nodes_to_dir(t1,t2,t3):\n",
    "    p21 = tuple_diff(t2,t1)\n",
    "    p32 = tuple_diff(t3,t2)\n",
    "    \n",
    "    return p21+p32\n",
    "    \n",
    "    \n",
    "    "
   ]
  },
  {
   "cell_type": "code",
   "execution_count": 669,
   "id": "7ab36226",
   "metadata": {},
   "outputs": [
    {
     "data": {
      "text/plain": [
       "[['X', 'X', '.', '.', '.'],\n",
       " ['.', 'X', 'X', '.', '.'],\n",
       " ['.', '.', 'X', '.', '.'],\n",
       " ['.', '.', 'X', 'X', 'X'],\n",
       " ['.', '.', '.', '.', 'X']]"
      ]
     },
     "execution_count": 669,
     "metadata": {},
     "output_type": "execute_result"
    }
   ],
   "source": [
    "draw"
   ]
  },
  {
   "cell_type": "code",
   "execution_count": 386,
   "id": "a8ccdf7d",
   "metadata": {},
   "outputs": [],
   "source": [
    "a = [[3, 2, 1, 2, 3, 4, 0], [4, 3, 2, 3, 4, 0, 0], [5, 4, 3, 4, 0, 0, 0], [0, 0, 4, 0, 0, 0, 0], [0, 0, 0, 0, 0, 0, 0], [0, 0, 0, 0, 0, 0, 0], [0, 0, 0, 0, 0, 0, 0]]"
   ]
  },
  {
   "cell_type": "code",
   "execution_count": 387,
   "id": "adf9bf78",
   "metadata": {},
   "outputs": [
    {
     "data": {
      "text/plain": [
       "[[3, 2, 1, 2, 3, 4, 0],\n",
       " [4, 3, 2, 3, 4, 0, 0],\n",
       " [5, 4, 3, 4, 0, 0, 0],\n",
       " [0, 0, 4, 0, 0, 0, 0],\n",
       " [0, 0, 0, 0, 0, 0, 0],\n",
       " [0, 0, 0, 0, 0, 0, 0],\n",
       " [0, 0, 0, 0, 0, 0, 0]]"
      ]
     },
     "execution_count": 387,
     "metadata": {},
     "output_type": "execute_result"
    }
   ],
   "source": [
    "a"
   ]
  },
  {
   "cell_type": "markdown",
   "id": "dd5561a8",
   "metadata": {},
   "source": [
    "### Path perturbation"
   ]
  },
  {
   "cell_type": "code",
   "execution_count": 144,
   "id": "87759914",
   "metadata": {},
   "outputs": [],
   "source": [
    "def perturb_path_at(path, i, level):\n",
    "    \n",
    "    p = path[i-1]\n",
    "    q = path[i]\n",
    "    n = path[i+1]\n",
    "    \n",
    "    neighbors = get_neighbors(q, level)\n",
    "    neighbors.remove(p)\n",
    "    neighbors.remove(n)\n",
    "            \n",
    "    newq = random.choice(neighbors) # choose a random tile to push\n",
    "    \n",
    "\n",
    "\n",
    "def perturb_path(path, level):\n",
    "    for node in path[1:-1]: # inner path\n",
    "        break;\n",
    "    pass;"
   ]
  },
  {
   "cell_type": "markdown",
   "id": "5ca01a87",
   "metadata": {},
   "source": [
    "### Random Walk"
   ]
  },
  {
   "cell_type": "code",
   "execution_count": 110,
   "id": "c38fee29",
   "metadata": {},
   "outputs": [],
   "source": [
    "import random\n",
    "# Random Walk\n",
    "\n",
    "q = (0, start)\n",
    "\n",
    "explored = [[0] * LEVEL_SIZE for _ in range(LEVEL_SIZE)]\n",
    "explored[0][start] = 1 # label start as explored\n",
    "\n",
    "while True:\n",
    "    neighbors = get_neighbors(q, level)\n",
    "    \n",
    "    can_move = False;\n",
    "    next_moves = []\n",
    "    \n",
    "    for n in neighbors:\n",
    "        if explored[n[0]][n[1]] == 0:\n",
    "            can_move = True;\n",
    "            next_moves.append(n)\n",
    "    \n",
    "    if can_move is False:\n",
    "        break;\n",
    "        \n",
    "    cost = explored[q[0]][q[1]]\n",
    "    \n",
    "    q = random.choice(next_moves)\n",
    "    explored[q[0]][q[1]] = cost +1 \n",
    "    \n",
    "    if level[q[0]][q[1]] == FINISH:\n",
    "        print(\"found exit:\", q)\n",
    "        break;\n",
    "    "
   ]
  },
  {
   "cell_type": "code",
   "execution_count": 111,
   "id": "8b64794c",
   "metadata": {},
   "outputs": [
    {
     "data": {
      "text/plain": [
       "[[1, 2, 3, 0, 0, 0],\n",
       " [16, 15, 4, 5, 0, 0],\n",
       " [17, 14, 0, 6, 0, 0],\n",
       " [12, 13, 8, 7, 0, 0],\n",
       " [11, 10, 9, 0, 0, 0],\n",
       " [0, 0, 0, 0, 0, 0]]"
      ]
     },
     "execution_count": 111,
     "metadata": {},
     "output_type": "execute_result"
    }
   ],
   "source": [
    "explored"
   ]
  },
  {
   "cell_type": "code",
   "execution_count": null,
   "id": "cf07231f",
   "metadata": {},
   "outputs": [],
   "source": [
    "### "
   ]
  }
 ],
 "metadata": {
  "kernelspec": {
   "display_name": "Python 3 (ipykernel)",
   "language": "python",
   "name": "python3"
  },
  "language_info": {
   "codemirror_mode": {
    "name": "ipython",
    "version": 3
   },
   "file_extension": ".py",
   "mimetype": "text/x-python",
   "name": "python",
   "nbconvert_exporter": "python",
   "pygments_lexer": "ipython3",
   "version": "3.7.3"
  }
 },
 "nbformat": 4,
 "nbformat_minor": 5
}
